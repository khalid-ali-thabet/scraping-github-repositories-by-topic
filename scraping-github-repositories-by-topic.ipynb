{
 "cells": [
  {
   "cell_type": "markdown",
   "id": "00548f62",
   "metadata": {},
   "source": [
    "# Top Repositories for GitHub Topics"
   ]
  },
  {
   "cell_type": "markdown",
   "id": "74ca3e07",
   "metadata": {},
   "source": [
    "### Outline:\n",
    "\n",
    "- we'll scrap https://github.com/topics\n",
    "- get a list of topics and for each topic we'll get topic name, topic URL, and topic description \n",
    "- for each topic we will get the top 25 repositories \n",
    "- and for each repository we'll get repository name, repository owner (user name), number of stars and its URL\n",
    "- create a csv file for each topic in the following formate:\n",
    " ```\n",
    " Repo_name,User_name,Stars,Repo_URL\n",
    " \n",
    " ```"
   ]
  },
  {
   "cell_type": "markdown",
   "id": "31afc338",
   "metadata": {},
   "source": [
    "### install and use the requests library to download web pages "
   ]
  },
  {
   "cell_type": "code",
   "execution_count": 1,
   "id": "16f2cf70",
   "metadata": {
    "scrolled": true
   },
   "outputs": [],
   "source": [
    "# upgrade if it already installed, quiet to don't show any outputs if installastion succeed \n",
    "!pip install requests --upgrade --quiet "
   ]
  },
  {
   "cell_type": "code",
   "execution_count": 2,
   "id": "2c9baef4",
   "metadata": {},
   "outputs": [],
   "source": [
    "import requests"
   ]
  },
  {
   "cell_type": "code",
   "execution_count": 3,
   "id": "2e45cd8e",
   "metadata": {},
   "outputs": [],
   "source": [
    "topics_url = 'https://github.com/topics'"
   ]
  },
  {
   "cell_type": "code",
   "execution_count": 4,
   "id": "a198f0f0",
   "metadata": {},
   "outputs": [],
   "source": [
    "response = requests.get(topics_url)"
   ]
  },
  {
   "cell_type": "code",
   "execution_count": 5,
   "id": "873cf71f",
   "metadata": {},
   "outputs": [
    {
     "data": {
      "text/plain": [
       "200"
      ]
     },
     "execution_count": 5,
     "metadata": {},
     "output_type": "execute_result"
    }
   ],
   "source": [
    "response.status_code  # if it 200 then the response was successfuly "
   ]
  },
  {
   "cell_type": "code",
   "execution_count": 6,
   "id": "9991c5e4",
   "metadata": {},
   "outputs": [
    {
     "data": {
      "text/plain": [
       "144927"
      ]
     },
     "execution_count": 6,
     "metadata": {},
     "output_type": "execute_result"
    }
   ],
   "source": [
    "len(response.text) # response.text have the content of the web page HTML code"
   ]
  },
  {
   "cell_type": "code",
   "execution_count": 7,
   "id": "9d56fb6e",
   "metadata": {},
   "outputs": [],
   "source": [
    "page_content = response.text"
   ]
  },
  {
   "cell_type": "code",
   "execution_count": 8,
   "id": "b9e306f6",
   "metadata": {},
   "outputs": [
    {
     "data": {
      "text/plain": [
       "'\\n\\n<!DOCTYPE html>\\n<html lang=\"en\" data-color-mode=\"auto\" data-light-theme=\"light\" data-dark-theme=\"d'"
      ]
     },
     "execution_count": 8,
     "metadata": {},
     "output_type": "execute_result"
    }
   ],
   "source": [
    "page_content[:100]"
   ]
  },
  {
   "cell_type": "markdown",
   "id": "9272069d",
   "metadata": {},
   "source": [
    "### use Beautiful Soup to parse and extract the information "
   ]
  },
  {
   "cell_type": "code",
   "execution_count": 9,
   "id": "c6df83ad",
   "metadata": {
    "scrolled": true
   },
   "outputs": [],
   "source": [
    "!pip install beautifulsoup4 --upgrade --quiet"
   ]
  },
  {
   "cell_type": "code",
   "execution_count": 10,
   "id": "2d876a12",
   "metadata": {},
   "outputs": [],
   "source": [
    "from bs4 import BeautifulSoup"
   ]
  },
  {
   "cell_type": "code",
   "execution_count": 11,
   "id": "31c04cc9",
   "metadata": {},
   "outputs": [],
   "source": [
    "doc = BeautifulSoup(page_content, 'html.parser')"
   ]
  },
  {
   "cell_type": "code",
   "execution_count": 12,
   "id": "7cc2bf98",
   "metadata": {},
   "outputs": [
    {
     "data": {
      "text/plain": [
       "67"
      ]
     },
     "execution_count": 12,
     "metadata": {},
     "output_type": "execute_result"
    }
   ],
   "source": [
    "# now you can search on doc what you want , go to the web page and click inspect\n",
    "topic_title_tages = doc.find_all('p')\n",
    "len(topic_title_tages)"
   ]
  },
  {
   "cell_type": "code",
   "execution_count": 13,
   "id": "44781068",
   "metadata": {},
   "outputs": [
    {
     "data": {
      "text/plain": [
       "[<p class=\"f3 lh-condensed mb-0 mt-1 Link--primary\">3D</p>,\n",
       " <p class=\"f3 lh-condensed mb-0 mt-1 Link--primary\">Ajax</p>,\n",
       " <p class=\"f3 lh-condensed mb-0 mt-1 Link--primary\">Algorithm</p>]"
      ]
     },
     "execution_count": 13,
     "metadata": {},
     "output_type": "execute_result"
    }
   ],
   "source": [
    "# we need to search more specifily , so we go to the class of that p tage \n",
    "title_class = 'f3 lh-condensed mb-0 mt-1 Link--primary'\n",
    "topic_title_tages = doc.find_all('p', {'class': title_class})\n",
    "topic_title_tages[:3]"
   ]
  },
  {
   "cell_type": "markdown",
   "id": "027e194d",
   "metadata": {},
   "source": [
    "![](https://i.imgur.com/cL7MJyc.png)"
   ]
  },
  {
   "cell_type": "code",
   "execution_count": 14,
   "id": "eb342b79",
   "metadata": {
    "scrolled": true
   },
   "outputs": [
    {
     "data": {
      "text/plain": [
       "[<p class=\"f5 color-text-secondary mb-0 mt-1\">\n",
       "               3D modeling is the process of virtually developing the surface and structure of a 3D object.\n",
       "             </p>,\n",
       " <p class=\"f5 color-text-secondary mb-0 mt-1\">\n",
       "               Ajax is a technique for creating interactive web applications.\n",
       "             </p>,\n",
       " <p class=\"f5 color-text-secondary mb-0 mt-1\">\n",
       "               Algorithms are self-contained sequences that carry out a variety of tasks.\n",
       "             </p>]"
      ]
     },
     "execution_count": 14,
     "metadata": {},
     "output_type": "execute_result"
    }
   ],
   "source": [
    "# description tags\n",
    "description_class = 'f5 color-text-secondary mb-0 mt-1'\n",
    "topic_description_tages = doc.find_all('p', {'class': description_class})\n",
    "topic_description_tages[:3]"
   ]
  },
  {
   "cell_type": "code",
   "execution_count": 15,
   "id": "25774b6a",
   "metadata": {},
   "outputs": [],
   "source": [
    "link_class = 'd-flex no-underline'\n",
    "topic_link_tags = doc.find_all('a', {'class': link_class})\n",
    "#topic_link_tags[0]"
   ]
  },
  {
   "cell_type": "code",
   "execution_count": 16,
   "id": "e8561ae4",
   "metadata": {},
   "outputs": [
    {
     "data": {
      "text/plain": [
       "'/topics/3d'"
      ]
     },
     "execution_count": 16,
     "metadata": {},
     "output_type": "execute_result"
    }
   ],
   "source": [
    "topic_link_tags[0]['href']"
   ]
  },
  {
   "cell_type": "code",
   "execution_count": 17,
   "id": "5cede490",
   "metadata": {},
   "outputs": [
    {
     "data": {
      "text/plain": [
       "'https://github.com/topics/3d'"
      ]
     },
     "execution_count": 17,
     "metadata": {},
     "output_type": "execute_result"
    }
   ],
   "source": [
    "'https://github.com'+topic_link_tags[0]['href']"
   ]
  },
  {
   "cell_type": "code",
   "execution_count": 18,
   "id": "c1497ce6",
   "metadata": {},
   "outputs": [
    {
     "name": "stdout",
     "output_type": "stream",
     "text": [
      "https://github.com/topics/3d\n"
     ]
    }
   ],
   "source": [
    "print('https://github.com'+topic_link_tags[0]['href'])"
   ]
  },
  {
   "cell_type": "code",
   "execution_count": 19,
   "id": "d539de53",
   "metadata": {},
   "outputs": [
    {
     "name": "stdout",
     "output_type": "stream",
     "text": [
      "<p class=\"f3 lh-condensed mb-0 mt-1 Link--primary\">3D</p>\n",
      "3D\n"
     ]
    }
   ],
   "source": [
    "# now we could get titles, descriptions, and links\n",
    "# we have titles\n",
    "print(topic_title_tages[0])\n",
    "print(topic_title_tages[0].text) # text gives you the text inside tages"
   ]
  },
  {
   "cell_type": "code",
   "execution_count": 20,
   "id": "f9bad564",
   "metadata": {
    "scrolled": true
   },
   "outputs": [
    {
     "name": "stdout",
     "output_type": "stream",
     "text": [
      "<p class=\"f5 color-text-secondary mb-0 mt-1\">\n",
      "              3D modeling is the process of virtually developing the surface and structure of a 3D object.\n",
      "            </p>\n",
      "---------------------------------------------------------------------------------------------\n",
      "\n",
      "              3D modeling is the process of virtually developing the surface and structure of a 3D object.\n",
      "            \n",
      "---------------------------------------------------------------------------------------------\n",
      "3D modeling is the process of virtually developing the surface and structure of a 3D object.\n"
     ]
    }
   ],
   "source": [
    "# we have descriptions\n",
    "print(topic_description_tages[0])\n",
    "print(\"---------------------------------------------------------------------------------------------\")\n",
    "print(topic_description_tages[0].text)\n",
    "print(\"---------------------------------------------------------------------------------------------\")\n",
    "print(topic_description_tages[0].text.strip())"
   ]
  },
  {
   "cell_type": "code",
   "execution_count": 21,
   "id": "290e9390",
   "metadata": {},
   "outputs": [
    {
     "name": "stdout",
     "output_type": "stream",
     "text": [
      "['3D', 'Ajax', 'Algorithm', 'Amp', 'Android', 'Angular', 'Ansible', 'API', 'Arduino', 'ASP.NET', 'Atom', 'Awesome Lists', 'Amazon Web Services', 'Azure', 'Babel', 'Bash', 'Bitcoin', 'Bootstrap', 'Bot', 'C', 'Chrome', 'Chrome extension', 'Command line interface', 'Clojure', 'Code quality', 'Code review', 'Compiler', 'Continuous integration', 'COVID-19', 'C++']\n"
     ]
    }
   ],
   "source": [
    "# store titles in 'topic_titles' list\n",
    "topics_titles = [x.text for x in topic_title_tages]\n",
    "print(topics_titles)"
   ]
  },
  {
   "cell_type": "code",
   "execution_count": 22,
   "id": "eaf15cad",
   "metadata": {},
   "outputs": [
    {
     "name": "stdout",
     "output_type": "stream",
     "text": [
      "['3D modeling is the process of virtually developing the surface and structure of a 3D object.', 'Ajax is a technique for creating interactive web applications.', 'Algorithms are self-contained sequences that carry out a variety of tasks.', 'Amp is a non-blocking concurrency framework for PHP.', 'Android is an operating system built by Google designed for mobile devices.']\n"
     ]
    }
   ],
   "source": [
    "# store titles in 'topic_descriptions' list\n",
    "topics_descriptions = [x.text.strip() for x in topic_description_tages]\n",
    "print(topics_descriptions[:5])"
   ]
  },
  {
   "cell_type": "code",
   "execution_count": 23,
   "id": "0bae1181",
   "metadata": {},
   "outputs": [
    {
     "name": "stdout",
     "output_type": "stream",
     "text": [
      "https://github.com/topics/3d\n"
     ]
    }
   ],
   "source": [
    "# store titles in 'topic_URLs' list\n",
    "topics_urls = ['https://github.com'+x['href'] for x in topic_link_tags]\n",
    "print(topics_urls[0])"
   ]
  },
  {
   "cell_type": "code",
   "execution_count": 24,
   "id": "e1b03c60",
   "metadata": {},
   "outputs": [],
   "source": [
    "# create csv file with the data we gathered \n",
    "import pandas as pd\n",
    "# make a dictionary to make it easy to make the dataframe\n",
    "data_in_dict = {'titles':topics_titles, 'description':topics_descriptions, 'url':topics_urls}\n",
    "\n",
    "topics_df = pd.DataFrame(data_in_dict)"
   ]
  },
  {
   "cell_type": "code",
   "execution_count": 25,
   "id": "aaf97b4c",
   "metadata": {},
   "outputs": [
    {
     "data": {
      "text/html": [
       "<div>\n",
       "<style scoped>\n",
       "    .dataframe tbody tr th:only-of-type {\n",
       "        vertical-align: middle;\n",
       "    }\n",
       "\n",
       "    .dataframe tbody tr th {\n",
       "        vertical-align: top;\n",
       "    }\n",
       "\n",
       "    .dataframe thead th {\n",
       "        text-align: right;\n",
       "    }\n",
       "</style>\n",
       "<table border=\"1\" class=\"dataframe\">\n",
       "  <thead>\n",
       "    <tr style=\"text-align: right;\">\n",
       "      <th></th>\n",
       "      <th>titles</th>\n",
       "      <th>description</th>\n",
       "      <th>url</th>\n",
       "    </tr>\n",
       "  </thead>\n",
       "  <tbody>\n",
       "    <tr>\n",
       "      <th>0</th>\n",
       "      <td>3D</td>\n",
       "      <td>3D modeling is the process of virtually develo...</td>\n",
       "      <td>https://github.com/topics/3d</td>\n",
       "    </tr>\n",
       "    <tr>\n",
       "      <th>1</th>\n",
       "      <td>Ajax</td>\n",
       "      <td>Ajax is a technique for creating interactive w...</td>\n",
       "      <td>https://github.com/topics/ajax</td>\n",
       "    </tr>\n",
       "    <tr>\n",
       "      <th>2</th>\n",
       "      <td>Algorithm</td>\n",
       "      <td>Algorithms are self-contained sequences that c...</td>\n",
       "      <td>https://github.com/topics/algorithm</td>\n",
       "    </tr>\n",
       "    <tr>\n",
       "      <th>3</th>\n",
       "      <td>Amp</td>\n",
       "      <td>Amp is a non-blocking concurrency framework fo...</td>\n",
       "      <td>https://github.com/topics/amphp</td>\n",
       "    </tr>\n",
       "    <tr>\n",
       "      <th>4</th>\n",
       "      <td>Android</td>\n",
       "      <td>Android is an operating system built by Google...</td>\n",
       "      <td>https://github.com/topics/android</td>\n",
       "    </tr>\n",
       "    <tr>\n",
       "      <th>5</th>\n",
       "      <td>Angular</td>\n",
       "      <td>Angular is an open source web application plat...</td>\n",
       "      <td>https://github.com/topics/angular</td>\n",
       "    </tr>\n",
       "    <tr>\n",
       "      <th>6</th>\n",
       "      <td>Ansible</td>\n",
       "      <td>Ansible is a simple and powerful automation en...</td>\n",
       "      <td>https://github.com/topics/ansible</td>\n",
       "    </tr>\n",
       "    <tr>\n",
       "      <th>7</th>\n",
       "      <td>API</td>\n",
       "      <td>An API (Application Programming Interface) is ...</td>\n",
       "      <td>https://github.com/topics/api</td>\n",
       "    </tr>\n",
       "    <tr>\n",
       "      <th>8</th>\n",
       "      <td>Arduino</td>\n",
       "      <td>Arduino is an open source hardware and softwar...</td>\n",
       "      <td>https://github.com/topics/arduino</td>\n",
       "    </tr>\n",
       "    <tr>\n",
       "      <th>9</th>\n",
       "      <td>ASP.NET</td>\n",
       "      <td>ASP.NET is a web framework for building modern...</td>\n",
       "      <td>https://github.com/topics/aspnet</td>\n",
       "    </tr>\n",
       "    <tr>\n",
       "      <th>10</th>\n",
       "      <td>Atom</td>\n",
       "      <td>Atom is a open source text editor built with w...</td>\n",
       "      <td>https://github.com/topics/atom</td>\n",
       "    </tr>\n",
       "    <tr>\n",
       "      <th>11</th>\n",
       "      <td>Awesome Lists</td>\n",
       "      <td>An awesome list is a list of awesome things cu...</td>\n",
       "      <td>https://github.com/topics/awesome</td>\n",
       "    </tr>\n",
       "    <tr>\n",
       "      <th>12</th>\n",
       "      <td>Amazon Web Services</td>\n",
       "      <td>Amazon Web Services provides on-demand cloud c...</td>\n",
       "      <td>https://github.com/topics/aws</td>\n",
       "    </tr>\n",
       "    <tr>\n",
       "      <th>13</th>\n",
       "      <td>Azure</td>\n",
       "      <td>Azure is a cloud computing service created by ...</td>\n",
       "      <td>https://github.com/topics/azure</td>\n",
       "    </tr>\n",
       "    <tr>\n",
       "      <th>14</th>\n",
       "      <td>Babel</td>\n",
       "      <td>Babel is a compiler for writing next generatio...</td>\n",
       "      <td>https://github.com/topics/babel</td>\n",
       "    </tr>\n",
       "    <tr>\n",
       "      <th>15</th>\n",
       "      <td>Bash</td>\n",
       "      <td>Bash is a shell and command language interpret...</td>\n",
       "      <td>https://github.com/topics/bash</td>\n",
       "    </tr>\n",
       "    <tr>\n",
       "      <th>16</th>\n",
       "      <td>Bitcoin</td>\n",
       "      <td>Bitcoin is a cryptocurrency developed by Satos...</td>\n",
       "      <td>https://github.com/topics/bitcoin</td>\n",
       "    </tr>\n",
       "    <tr>\n",
       "      <th>17</th>\n",
       "      <td>Bootstrap</td>\n",
       "      <td>Bootstrap is an HTML, CSS, and JavaScript fram...</td>\n",
       "      <td>https://github.com/topics/bootstrap</td>\n",
       "    </tr>\n",
       "    <tr>\n",
       "      <th>18</th>\n",
       "      <td>Bot</td>\n",
       "      <td>A bot is an application that runs automated ta...</td>\n",
       "      <td>https://github.com/topics/bot</td>\n",
       "    </tr>\n",
       "    <tr>\n",
       "      <th>19</th>\n",
       "      <td>C</td>\n",
       "      <td>C is a general purpose programming language th...</td>\n",
       "      <td>https://github.com/topics/c</td>\n",
       "    </tr>\n",
       "    <tr>\n",
       "      <th>20</th>\n",
       "      <td>Chrome</td>\n",
       "      <td>Chrome is a web browser from the tech company ...</td>\n",
       "      <td>https://github.com/topics/chrome</td>\n",
       "    </tr>\n",
       "    <tr>\n",
       "      <th>21</th>\n",
       "      <td>Chrome extension</td>\n",
       "      <td>Google Chrome Extensions are add-ons that allo...</td>\n",
       "      <td>https://github.com/topics/chrome-extension</td>\n",
       "    </tr>\n",
       "    <tr>\n",
       "      <th>22</th>\n",
       "      <td>Command line interface</td>\n",
       "      <td>A CLI, or command-line interface, is a console...</td>\n",
       "      <td>https://github.com/topics/cli</td>\n",
       "    </tr>\n",
       "    <tr>\n",
       "      <th>23</th>\n",
       "      <td>Clojure</td>\n",
       "      <td>Clojure is a dynamic, general-purpose programm...</td>\n",
       "      <td>https://github.com/topics/clojure</td>\n",
       "    </tr>\n",
       "    <tr>\n",
       "      <th>24</th>\n",
       "      <td>Code quality</td>\n",
       "      <td>Automate your code review with style, quality,...</td>\n",
       "      <td>https://github.com/topics/code-quality</td>\n",
       "    </tr>\n",
       "    <tr>\n",
       "      <th>25</th>\n",
       "      <td>Code review</td>\n",
       "      <td>Ensure your code meets quality standards and s...</td>\n",
       "      <td>https://github.com/topics/code-review</td>\n",
       "    </tr>\n",
       "    <tr>\n",
       "      <th>26</th>\n",
       "      <td>Compiler</td>\n",
       "      <td>Compilers are software that translate higher-l...</td>\n",
       "      <td>https://github.com/topics/compiler</td>\n",
       "    </tr>\n",
       "    <tr>\n",
       "      <th>27</th>\n",
       "      <td>Continuous integration</td>\n",
       "      <td>Automatically build and test your code as you ...</td>\n",
       "      <td>https://github.com/topics/continuous-integration</td>\n",
       "    </tr>\n",
       "    <tr>\n",
       "      <th>28</th>\n",
       "      <td>COVID-19</td>\n",
       "      <td>The coronavirus disease 2019 (COVID-19) is an ...</td>\n",
       "      <td>https://github.com/topics/covid-19</td>\n",
       "    </tr>\n",
       "    <tr>\n",
       "      <th>29</th>\n",
       "      <td>C++</td>\n",
       "      <td>C++ is a general purpose and object-oriented p...</td>\n",
       "      <td>https://github.com/topics/cpp</td>\n",
       "    </tr>\n",
       "  </tbody>\n",
       "</table>\n",
       "</div>"
      ],
      "text/plain": [
       "                    titles                                        description  \\\n",
       "0                       3D  3D modeling is the process of virtually develo...   \n",
       "1                     Ajax  Ajax is a technique for creating interactive w...   \n",
       "2                Algorithm  Algorithms are self-contained sequences that c...   \n",
       "3                      Amp  Amp is a non-blocking concurrency framework fo...   \n",
       "4                  Android  Android is an operating system built by Google...   \n",
       "5                  Angular  Angular is an open source web application plat...   \n",
       "6                  Ansible  Ansible is a simple and powerful automation en...   \n",
       "7                      API  An API (Application Programming Interface) is ...   \n",
       "8                  Arduino  Arduino is an open source hardware and softwar...   \n",
       "9                  ASP.NET  ASP.NET is a web framework for building modern...   \n",
       "10                    Atom  Atom is a open source text editor built with w...   \n",
       "11           Awesome Lists  An awesome list is a list of awesome things cu...   \n",
       "12     Amazon Web Services  Amazon Web Services provides on-demand cloud c...   \n",
       "13                   Azure  Azure is a cloud computing service created by ...   \n",
       "14                   Babel  Babel is a compiler for writing next generatio...   \n",
       "15                    Bash  Bash is a shell and command language interpret...   \n",
       "16                 Bitcoin  Bitcoin is a cryptocurrency developed by Satos...   \n",
       "17               Bootstrap  Bootstrap is an HTML, CSS, and JavaScript fram...   \n",
       "18                     Bot  A bot is an application that runs automated ta...   \n",
       "19                       C  C is a general purpose programming language th...   \n",
       "20                  Chrome  Chrome is a web browser from the tech company ...   \n",
       "21        Chrome extension  Google Chrome Extensions are add-ons that allo...   \n",
       "22  Command line interface  A CLI, or command-line interface, is a console...   \n",
       "23                 Clojure  Clojure is a dynamic, general-purpose programm...   \n",
       "24            Code quality  Automate your code review with style, quality,...   \n",
       "25             Code review  Ensure your code meets quality standards and s...   \n",
       "26                Compiler  Compilers are software that translate higher-l...   \n",
       "27  Continuous integration  Automatically build and test your code as you ...   \n",
       "28                COVID-19  The coronavirus disease 2019 (COVID-19) is an ...   \n",
       "29                     C++  C++ is a general purpose and object-oriented p...   \n",
       "\n",
       "                                                 url  \n",
       "0                       https://github.com/topics/3d  \n",
       "1                     https://github.com/topics/ajax  \n",
       "2                https://github.com/topics/algorithm  \n",
       "3                    https://github.com/topics/amphp  \n",
       "4                  https://github.com/topics/android  \n",
       "5                  https://github.com/topics/angular  \n",
       "6                  https://github.com/topics/ansible  \n",
       "7                      https://github.com/topics/api  \n",
       "8                  https://github.com/topics/arduino  \n",
       "9                   https://github.com/topics/aspnet  \n",
       "10                    https://github.com/topics/atom  \n",
       "11                 https://github.com/topics/awesome  \n",
       "12                     https://github.com/topics/aws  \n",
       "13                   https://github.com/topics/azure  \n",
       "14                   https://github.com/topics/babel  \n",
       "15                    https://github.com/topics/bash  \n",
       "16                 https://github.com/topics/bitcoin  \n",
       "17               https://github.com/topics/bootstrap  \n",
       "18                     https://github.com/topics/bot  \n",
       "19                       https://github.com/topics/c  \n",
       "20                  https://github.com/topics/chrome  \n",
       "21        https://github.com/topics/chrome-extension  \n",
       "22                     https://github.com/topics/cli  \n",
       "23                 https://github.com/topics/clojure  \n",
       "24            https://github.com/topics/code-quality  \n",
       "25             https://github.com/topics/code-review  \n",
       "26                https://github.com/topics/compiler  \n",
       "27  https://github.com/topics/continuous-integration  \n",
       "28                https://github.com/topics/covid-19  \n",
       "29                     https://github.com/topics/cpp  "
      ]
     },
     "execution_count": 25,
     "metadata": {},
     "output_type": "execute_result"
    }
   ],
   "source": [
    "topics_df"
   ]
  },
  {
   "cell_type": "markdown",
   "id": "47b59357",
   "metadata": {},
   "source": [
    "### save the data in a csv file"
   ]
  },
  {
   "cell_type": "code",
   "execution_count": 26,
   "id": "9f133a31",
   "metadata": {},
   "outputs": [],
   "source": [
    "topics_df.to_csv('topics.csv', index=None)"
   ]
  },
  {
   "cell_type": "markdown",
   "id": "182099d6",
   "metadata": {},
   "source": [
    "### get the repositories informations "
   ]
  },
  {
   "cell_type": "markdown",
   "id": "9e902b91",
   "metadata": {},
   "source": [
    "### first get repositories informations for the first topic \"3D topic\""
   ]
  },
  {
   "cell_type": "code",
   "execution_count": 27,
   "id": "714a90c1",
   "metadata": {},
   "outputs": [
    {
     "name": "stdout",
     "output_type": "stream",
     "text": [
      "https://github.com/topics/3d\n"
     ]
    }
   ],
   "source": [
    "print(topics_df['url'][0])"
   ]
  },
  {
   "cell_type": "code",
   "execution_count": 28,
   "id": "54d01e7d",
   "metadata": {},
   "outputs": [
    {
     "data": {
      "text/plain": [
       "200"
      ]
     },
     "execution_count": 28,
     "metadata": {},
     "output_type": "execute_result"
    }
   ],
   "source": [
    "topic0_url = topics_df['url'][0]\n",
    "topic0_response = requests.get(topic0_url)\n",
    "topic0_response.status_code"
   ]
  },
  {
   "cell_type": "code",
   "execution_count": 29,
   "id": "39e129ee",
   "metadata": {},
   "outputs": [],
   "source": [
    "topic0_doc = BeautifulSoup(topic0_response.text, 'html.parser')"
   ]
  },
  {
   "cell_type": "code",
   "execution_count": 30,
   "id": "2be41174",
   "metadata": {},
   "outputs": [
    {
     "data": {
      "text/plain": [
       "30"
      ]
     },
     "execution_count": 30,
     "metadata": {},
     "output_type": "execute_result"
    }
   ],
   "source": [
    "class_0 =  \"f3 color-text-secondary text-normal lh-condensed\"\n",
    "h3 = topic0_doc.find_all('h3', {'class': class_0})\n",
    "len(h3)"
   ]
  },
  {
   "cell_type": "code",
   "execution_count": 31,
   "id": "a32c3009",
   "metadata": {
    "scrolled": true
   },
   "outputs": [
    {
     "data": {
      "text/plain": [
       "2"
      ]
     },
     "execution_count": 31,
     "metadata": {},
     "output_type": "execute_result"
    }
   ],
   "source": [
    "username_and_reponame0 = h3[0].find_all('a')\n",
    "len(username_and_reponame0)"
   ]
  },
  {
   "cell_type": "code",
   "execution_count": 32,
   "id": "269774c3",
   "metadata": {
    "scrolled": true
   },
   "outputs": [
    {
     "name": "stdout",
     "output_type": "stream",
     "text": [
      "mrdoob\n",
      "three.js\n",
      "/mrdoob/three.js\n"
     ]
    }
   ],
   "source": [
    "print(h3[0].find_all('a')[0].text.strip())\n",
    "print(h3[0].find_all('a')[1].text.strip())\n",
    "print(h3[0].find_all('a')[1]['href'].strip())"
   ]
  },
  {
   "cell_type": "code",
   "execution_count": 33,
   "id": "ce7d8493",
   "metadata": {},
   "outputs": [
    {
     "data": {
      "text/plain": [
       "'mrdoob'"
      ]
     },
     "execution_count": 33,
     "metadata": {},
     "output_type": "execute_result"
    }
   ],
   "source": [
    "user_name0 = username_and_reponame0[0].text.strip()\n",
    "user_name0"
   ]
  },
  {
   "cell_type": "code",
   "execution_count": 34,
   "id": "7e00e517",
   "metadata": {},
   "outputs": [
    {
     "data": {
      "text/plain": [
       "'three.js'"
      ]
     },
     "execution_count": 34,
     "metadata": {},
     "output_type": "execute_result"
    }
   ],
   "source": [
    "repo_name0 = username_and_reponame0[1].text.strip()\n",
    "repo_name0"
   ]
  },
  {
   "cell_type": "code",
   "execution_count": 35,
   "id": "d0756ff3",
   "metadata": {},
   "outputs": [
    {
     "name": "stdout",
     "output_type": "stream",
     "text": [
      "https://github.com/mrdoob/three.js\n"
     ]
    }
   ],
   "source": [
    "base_link = 'https://github.com'\n",
    "repo_link = base_link + username_and_reponame0[1]['href']\n",
    "print(repo_link)"
   ]
  },
  {
   "cell_type": "code",
   "execution_count": 37,
   "id": "5bd49ef2",
   "metadata": {},
   "outputs": [],
   "source": [
    "class_star = \"d-flex flex-items-start ml-3\"\n",
    "repo_star_tag = doc.find_all('div', {'class': class_star})"
   ]
  },
  {
   "cell_type": "code",
   "execution_count": 38,
   "id": "63dd1eb8",
   "metadata": {},
   "outputs": [],
   "source": [
    "# define a function that is used to convert the number of stars to an integr \n",
    "def to_int_stars(stars):\n",
    "    stars_int = 0\n",
    "    if stars[-1] == 'k':\n",
    "        stars_int =  float(stars[:-1]) * 1000\n",
    "    else: stars_int = float(stars)\n",
    "    return int(stars_int)"
   ]
  },
  {
   "cell_type": "code",
   "execution_count": 39,
   "id": "238b6ef3",
   "metadata": {},
   "outputs": [
    {
     "data": {
      "text/plain": [
       "[74900, 19100, 15300, 15000, 13100]"
      ]
     },
     "execution_count": 39,
     "metadata": {},
     "output_type": "execute_result"
    }
   ],
   "source": [
    "# test the to_int_stars function \n",
    "url = topics_df['url'][0]\n",
    "res = requests.get(url)\n",
    "doc = BeautifulSoup(res.text, \"html.parser\")\n",
    "class_star = \"social-count float-none\"\n",
    "stare_tages = doc.find_all('a', {'class': class_star})\n",
    "ss = [to_int_stars (s.text.strip()) for s in stare_tages]\n",
    "ss[:5]"
   ]
  },
  {
   "cell_type": "code",
   "execution_count": 40,
   "id": "d27bbf47",
   "metadata": {},
   "outputs": [],
   "source": [
    "# Now we can make it for every topic \n",
    "# define a function that get the repositories' data for each topic \n",
    "def get_data(topic_link):\n",
    "    '''\n",
    "    input ->  topic link url \n",
    "    output -> 4 lists each list store the data of an attribute for each repository of that topic \n",
    "    '''\n",
    "    try:\n",
    "        topic_response = requests.get(topic_link)\n",
    "    except: print(\"filed to download page!! \")\n",
    "    topic_doc = BeautifulSoup(topic_response.text, 'html.parser')\n",
    "    user_repo_link_class =  \"f3 color-text-secondary text-normal lh-condensed\"\n",
    "    #user_repo_link_class contains the repo name and user name and repo link\n",
    "    user_repo_link_tag = topic_doc.find_all('h3', {'class': user_repo_link_class})\n",
    "    base_link = 'https://github.com'\n",
    "    class_star = \"social-count float-none\"\n",
    "    repo_star_tag = topic_doc.find_all('a', {'class': class_star})\n",
    "    repos_number = len(user_repo_link_tag)\n",
    "    user_name = [user_repo_link_tag[i].find_all('a')[0].text.strip() for i in range(repos_number)]\n",
    "    repo_name = [user_repo_link_tag[i].find_all('a')[1].text.strip() for i in range(repos_number)]\n",
    "    repo_link = [base_link+user_repo_link_tag[i].find_all('a')[1]['href'] for i in range(repos_number)]\n",
    "    stars = [to_int_stars(star.text.strip()) for star in repo_star_tag]\n",
    "    return user_name, repo_name, repo_link,stars"
   ]
  },
  {
   "cell_type": "code",
   "execution_count": 41,
   "id": "b53ded15",
   "metadata": {},
   "outputs": [],
   "source": [
    "# make a function that takes the returned data from get_data function and make a dataframe for\n",
    "# that topic \n",
    "def make_df(data):\n",
    "    '''\n",
    "    input -> the 4 lists \"user_name, repo_name, repo_link,stars\"\n",
    "    that returned from the get_data function \n",
    "    output -> a dataframe that have the required attributes for a specified topic\n",
    "    '''\n",
    "    data_to_dict = {\n",
    "        \"Username\":data[0], # user_name \n",
    "        \"Repository Name\":data[1], # repo_name\n",
    "        \"Repository Link\":data[2], # repo_link\n",
    "        \"# of stars\": data[3] # stars\n",
    "    }\n",
    "    topic_df = pd.DataFrame(data_to_dict)\n",
    "    return topic_df"
   ]
  },
  {
   "cell_type": "code",
   "execution_count": 42,
   "id": "6ade30da",
   "metadata": {},
   "outputs": [],
   "source": [
    "import os\n",
    "def save_toics_dfs(topics_df):\n",
    "    #urls is a list of topics urls \n",
    "    if not os.path.exists('topics'):\n",
    "        os.makedirs('topics')  # make a dicrectory \n",
    "    for i in range(len(topics_df['url'])):\n",
    "        if not os.path.exists(\"topics\\\\\"+topics_df['titles'][i]+'.csv'):\n",
    "            print('processing ... '+topics_df['titles'][i])\n",
    "            df = make_df(get_data(url))\n",
    "            df.to_csv('topics\\\\'+topics_df['titles'][i]+'.csv', index = None)\n",
    "        else:\n",
    "            print('already exists ! ')\n",
    "            continue \n",
    "    print('End of processing!')"
   ]
  },
  {
   "cell_type": "code",
   "execution_count": 43,
   "id": "10c9c137",
   "metadata": {},
   "outputs": [
    {
     "name": "stdout",
     "output_type": "stream",
     "text": [
      "processing ... 3D\n",
      "processing ... Ajax\n",
      "processing ... Algorithm\n",
      "processing ... Amp\n",
      "processing ... Android\n",
      "processing ... Angular\n",
      "processing ... Ansible\n",
      "processing ... API\n",
      "processing ... Arduino\n",
      "processing ... ASP.NET\n",
      "processing ... Atom\n",
      "processing ... Awesome Lists\n",
      "processing ... Amazon Web Services\n",
      "processing ... Azure\n",
      "processing ... Babel\n",
      "processing ... Bash\n",
      "processing ... Bitcoin\n",
      "processing ... Bootstrap\n",
      "processing ... Bot\n",
      "processing ... C\n",
      "processing ... Chrome\n",
      "processing ... Chrome extension\n",
      "processing ... Command line interface\n",
      "processing ... Clojure\n",
      "processing ... Code quality\n",
      "processing ... Code review\n",
      "processing ... Compiler\n",
      "processing ... Continuous integration\n",
      "processing ... COVID-19\n",
      "processing ... C++\n",
      "End of processing!\n"
     ]
    }
   ],
   "source": [
    "save_toics_dfs(topics_df)"
   ]
  },
  {
   "cell_type": "markdown",
   "id": "6ab70b2f",
   "metadata": {},
   "source": [
    "### Now we have a 30 files(file for each topic) and a 30 repository for each topic \n",
    "### Time to download these files in one zip file, and to do that we could install nbzip library "
   ]
  },
  {
   "cell_type": "markdown",
   "id": "2156c034",
   "metadata": {},
   "source": [
    "#### just follow steps on https://github.com/data-8/nbzip"
   ]
  },
  {
   "cell_type": "code",
   "execution_count": 44,
   "id": "ddbf1eb6",
   "metadata": {},
   "outputs": [],
   "source": [
    "!pip install nbzip --upgrade --quiet"
   ]
  },
  {
   "cell_type": "code",
   "execution_count": 46,
   "id": "5dd4a26b",
   "metadata": {},
   "outputs": [
    {
     "name": "stderr",
     "output_type": "stream",
     "text": [
      "Enabling: nbzip\n",
      "- Writing config: C:\\Installation_of_anaconda\\etc\\jupyter\n",
      "    - Validating...\n",
      "      nbzip  ok\n",
      "Installing C:\\Installation_of_anaconda\\lib\\site-packages\\nbzip\\static -> nbzip\n",
      "Up to date: C:\\ProgramData\\jupyter\\nbextensions\\nbzip\\tree.js\n",
      "- Validating: ok\n",
      "\n",
      "    To initialize this nbextension in the browser every time the notebook (or other app) loads:\n",
      "    \n",
      "          jupyter nbextension enable nbzip --py\n",
      "    \n",
      "Enabling tree extension nbzip/tree...\n",
      "      - Validating: ok\n"
     ]
    }
   ],
   "source": [
    "!jupyter serverextension enable --py nbzip --sys-prefix\n",
    "!jupyter nbextension install --py nbzip\n",
    "!jupyter nbextension enable --py nbzip"
   ]
  },
  {
   "cell_type": "code",
   "execution_count": null,
   "id": "771963bc",
   "metadata": {},
   "outputs": [],
   "source": []
  }
 ],
 "metadata": {
  "kernelspec": {
   "display_name": "Python 3",
   "language": "python",
   "name": "python3"
  },
  "language_info": {
   "codemirror_mode": {
    "name": "ipython",
    "version": 3
   },
   "file_extension": ".py",
   "mimetype": "text/x-python",
   "name": "python",
   "nbconvert_exporter": "python",
   "pygments_lexer": "ipython3",
   "version": "3.8.8"
  }
 },
 "nbformat": 4,
 "nbformat_minor": 5
}
